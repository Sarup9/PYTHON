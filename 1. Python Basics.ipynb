{
 "cells": [
  {
   "cell_type": "markdown",
   "metadata": {
    "id": "ryQOn6wkrQ0j"
   },
   "source": [
    "# Q.1 Explain the key features of Python that make it a popular choice for programming ?"
   ]
  },
  {
   "cell_type": "markdown",
   "metadata": {
    "id": "ZKY_vy1vrevu"
   },
   "source": [
    "Key Features of Python that Make It a Popular Choice for Programming :-\n",
    "\n",
    "a. Rich Library Support\n",
    "Python me Pandas, NumPy, SciPy, scikit-learn jaise powerful libraries hain, jo data manipulation, analysis, aur visualization ke liye kaam aati hain. PyTorch jaise libraries deep learning aur AI ke liye use hoti hain.\n",
    "\n",
    "b. AI & Machine Learning Capabilities\n",
    "Python healthcare, finance, aur speech recognition jaise AI-based applications ke liye best hai. Algorithmic trading, fraud detection, risk assessment, aur credit scoring ke liye bhi iska use hota hai.\n",
    "\n",
    "c. Simple & Readable Syntax\n",
    "Python ka syntax beginner-friendly hai, jise easily seekha aur samjha ja sakta hai. Yeh fast development aur prototyping ke liye ideal hai.\n",
    "\n",
    "d. Cross-Platform Compatibility\n",
    "Python Windows, macOS, Linux jaise multiple platforms par smoothly run hota hai, jo ise widely adoptable banata hai.\n",
    "\n",
    "e. Strong Community Support\n",
    "Python ke paas ek large aur active developer community hai, jo naye programmers ke liye helpful hoti hai aur naye frameworks aur updates ko promote karti hai.\n",
    "\n",
    "f. Industry Adoption & Scalability\n",
    "Python AI, Data Science, NLP, aur software development industries me extensively use ho raha hai. Microsoft, Meta (Facebook), aur Twitter jaise bade companies ise NLP aur AI ke liye prefer karti hain.\n",
    "\n",
    "g. Object-Oriented & Functional Programming\n",
    "Python object-oriented programming (OOP) aur functional programming dono ko support karta hai, jo ise flexible banata hai.\n",
    "\n",
    "h. Automation & Scripting\n",
    "Python repetitive tasks ko automate karne ke liye bhi use hota hai. Yeh DevOps, web scraping, aur task automation ke liye ek powerful tool hai.\n",
    "\n",
    "Conclusion\n",
    "Python ek powerful, simple, aur flexible language hai jo AI, ML, Data Science, Web Development, aur Automation jaise fields me widely adopted hai. Iski strong libraries, readability, aur community support ise ek top programming language banati hain."
   ]
  },
  {
   "cell_type": "code",
   "execution_count": 1,
   "metadata": {
    "colab": {
     "base_uri": "https://localhost:8080/"
    },
    "id": "pVatJRhsr1Mf",
    "outputId": "fcc9145e-3088-49fd-d8f8-500c52a8ad71"
   },
   "outputs": [
    {
     "name": "stdout",
     "output_type": "stream",
     "text": [
      "Hello PW SKILL!\n"
     ]
    }
   ],
   "source": [
    "#First program\n",
    "print(\"Hello PW SKILL!\")"
   ]
  },
  {
   "cell_type": "markdown",
   "metadata": {
    "id": "ei7pzTGSsAEG"
   },
   "source": [
    "# Q.2 Describe the role of predefined keywords in Python and provide examples of how they are used in a program ?"
   ]
  },
  {
   "cell_type": "markdown",
   "metadata": {
    "id": "6CBHi76XsJVC"
   },
   "source": [
    "Predefined keywords in Python are special words that already have a meaning. We cannot use them as names for things like variables. Python has about 35 of these keywords, and each one is used to do something important in the program .\n",
    "\n",
    "Here is a list of 35 Python keywords.\n",
    "\n",
    "### List of 35 Predefined Keywords in Python\n",
    "\n",
    "Here are the 35 predefined keywords in Python:\n",
    "\n",
    "1. False  \n",
    "2. None  \n",
    "3. True  \n",
    "4. and  \n",
    "5. as  \n",
    "6. assert  \n",
    "7. async  \n",
    "8. await  \n",
    "9. break  \n",
    "10. class  \n",
    "11. continue  \n",
    "12. def  \n",
    "13. del  \n",
    "14. elif  \n",
    "15. else  \n",
    "16. except  \n",
    "17. finally  \n",
    "18. for  \n",
    "19. from  \n",
    "20. global  \n",
    "21. if  \n",
    "22. import  \n",
    "23. in  \n",
    "24. is  \n",
    "25. lambda  \n",
    "26. nonlocal  \n",
    "27. not  \n",
    "28. or  \n",
    "29. pass  \n",
    "30. raise  \n",
    "31. return  \n",
    "32. try  \n",
    "33. while  \n",
    "34. with  \n",
    "35. yield\n",
    "\n",
    "\n",
    "Some of them are :-\n",
    "1. print - Used to display messages on the output screen .\n"
   ]
  },
  {
   "cell_type": "code",
   "execution_count": 1,
   "metadata": {
    "colab": {
     "base_uri": "https://localhost:8080/"
    },
    "id": "NkV6TyHMsqGv",
    "outputId": "0845aa6f-582b-413a-f20c-9134137c22ea"
   },
   "outputs": [
    {
     "name": "stdout",
     "output_type": "stream",
     "text": [
      "Hi\n"
     ]
    }
   ],
   "source": [
    "# Examples\n",
    "#  1. print keyword\n",
    "print(\"Hi\")"
   ]
  },
  {
   "cell_type": "markdown",
   "metadata": {
    "id": "W7WLVZxI6FeD"
   },
   "source": [
    "\n",
    "2. if - Used to check a condition.\n"
   ]
  },
  {
   "cell_type": "code",
   "execution_count": 2,
   "metadata": {
    "colab": {
     "base_uri": "https://localhost:8080/"
    },
    "id": "yP-l-PDfuige",
    "outputId": "c01ad55c-468a-4648-8ae6-a72da9740591"
   },
   "outputs": [
    {
     "name": "stdout",
     "output_type": "stream",
     "text": [
      "True\n"
     ]
    }
   ],
   "source": [
    "# 2. if keyword\n",
    "if 5 > 2:\n",
    "    print(\"True\")\n"
   ]
  },
  {
   "cell_type": "markdown",
   "metadata": {
    "id": "2OUyMGaJ6JS7"
   },
   "source": [
    "\n",
    "3. import - Used to bring in external modules.\n"
   ]
  },
  {
   "cell_type": "code",
   "execution_count": 3,
   "metadata": {
    "colab": {
     "base_uri": "https://localhost:8080/"
    },
    "id": "GN5biqrzuis2",
    "outputId": "87864da9-1885-4bea-e47b-4f342e7af635"
   },
   "outputs": [
    {
     "name": "stdout",
     "output_type": "stream",
     "text": [
      "3.141592653589793\n"
     ]
    }
   ],
   "source": [
    "# 3. import keyword\n",
    "import math\n",
    "print(math.pi)\n"
   ]
  },
  {
   "cell_type": "markdown",
   "metadata": {
    "id": "8mmYF2SG6MPa"
   },
   "source": [
    "\n",
    "4. and - Used to check if both conditions are true.\n"
   ]
  },
  {
   "cell_type": "code",
   "execution_count": 4,
   "metadata": {
    "colab": {
     "base_uri": "https://localhost:8080/"
    },
    "id": "qTRtgfciui19",
    "outputId": "1d988c11-244e-4574-8792-14a00295001b"
   },
   "outputs": [
    {
     "name": "stdout",
     "output_type": "stream",
     "text": [
      "Eligible for the program\n"
     ]
    }
   ],
   "source": [
    "# 4. and keyword\n",
    "age = 20\n",
    "if age > 18 and age < 30:\n",
    "    print(\"Eligible for the program\")\n"
   ]
  },
  {
   "cell_type": "markdown",
   "metadata": {
    "id": "Q1MFvpHA6OaF"
   },
   "source": [
    "5. for - Used to loop over a sequence."
   ]
  },
  {
   "cell_type": "code",
   "execution_count": 5,
   "metadata": {
    "colab": {
     "base_uri": "https://localhost:8080/"
    },
    "id": "-fKG1U2nujBG",
    "outputId": "b3b280f2-cef7-4a2b-8c99-d769c2da9a15"
   },
   "outputs": [
    {
     "name": "stdout",
     "output_type": "stream",
     "text": [
      "0\n",
      "1\n",
      "2\n"
     ]
    }
   ],
   "source": [
    "# 5. for keyword\n",
    "for i in range(3):\n",
    "    print(i)\n"
   ]
  },
  {
   "cell_type": "markdown",
   "metadata": {
    "id": "ofqKNNpPvF8E"
   },
   "source": [
    "There are many keywords in Python. The above are just a few examples.\n"
   ]
  },
  {
   "cell_type": "markdown",
   "metadata": {
    "id": "A5uUCmcQvIg7"
   },
   "source": [
    "# Q.3 Compare and contrast mutable and immutable objects in Python with examples ?\n"
   ]
  },
  {
   "cell_type": "markdown",
   "metadata": {
    "id": "9r-_5QiZvOn9"
   },
   "source": [
    " Mutable Objects :- Mutable objects are those whose values can be changed or modified after they are created.\n",
    "Examples: list, dict, set"
   ]
  },
  {
   "cell_type": "code",
   "execution_count": 1,
   "metadata": {
    "colab": {
     "base_uri": "https://localhost:8080/"
    },
    "id": "wPZMlnoUvTKc",
    "outputId": "219032c7-b1e6-44e4-fdef-6eab984d3ca9"
   },
   "outputs": [
    {
     "name": "stdout",
     "output_type": "stream",
     "text": [
      "[100, 2, 3, 4]\n"
     ]
    }
   ],
   "source": [
    "# List ka example (mutable object)\n",
    "my_list = [1, 2, 3]\n",
    "my_list[0] = 100     # First number ko change kar diya\n",
    "my_list.append(4)    # Ek aur number add kar diya\n",
    "print(my_list)\n"
   ]
  },
  {
   "cell_type": "markdown",
   "metadata": {
    "id": "shJgQIB6wNLV"
   },
   "source": [
    "Immutable Objects :- Immutable objects are those whose values cannot be changed or modified after creation.\n",
    "Examples: int, float, str, tuple\n"
   ]
  },
  {
   "cell_type": "code",
   "execution_count": 18,
   "metadata": {
    "colab": {
     "base_uri": "https://localhost:8080/",
     "height": 158
    },
    "id": "fz2xrwJmwRgE",
    "outputId": "98cc9af3-dbab-4b1d-857d-7b63fc8dcc89"
   },
   "outputs": [
    {
     "ename": "TypeError",
     "evalue": "'str' object does not support item assignment",
     "output_type": "error",
     "traceback": [
      "\u001b[0;31m---------------------------------------------------------------------------\u001b[0m",
      "\u001b[0;31mTypeError\u001b[0m                                 Traceback (most recent call last)",
      "\u001b[0;32m<ipython-input-18-28e188b40041>\u001b[0m in \u001b[0;36m<cell line: 2>\u001b[0;34m()\u001b[0m\n\u001b[1;32m      1\u001b[0m \u001b[0ma\u001b[0m \u001b[0;34m=\u001b[0m \u001b[0;34m\"Shayan\"\u001b[0m\u001b[0;34m\u001b[0m\u001b[0;34m\u001b[0m\u001b[0m\n\u001b[0;32m----> 2\u001b[0;31m \u001b[0ma\u001b[0m\u001b[0;34m[\u001b[0m\u001b[0;36m0\u001b[0m\u001b[0;34m]\u001b[0m \u001b[0;34m=\u001b[0m \u001b[0;34m\"A\"\u001b[0m \u001b[0;31m# this will give an error\u001b[0m\u001b[0;34m\u001b[0m\u001b[0;34m\u001b[0m\u001b[0m\n\u001b[0m",
      "\u001b[0;31mTypeError\u001b[0m: 'str' object does not support item assignment"
     ]
    }
   ],
   "source": [
    "a = \"Shayan\"\n",
    "a[0] = \"A\" # this will give an error"
   ]
  },
  {
   "cell_type": "markdown",
   "metadata": {
    "id": "4aoRB5eQwm15"
   },
   "source": [
    "We can not change the value in immutable objects\n",
    "\n"
   ]
  },
  {
   "cell_type": "markdown",
   "metadata": {
    "id": "SOMq1C47wqQh"
   },
   "source": [
    "# Q.4 Discuss the different types of operators in Python and provide examples of how they are used ?\n"
   ]
  },
  {
   "cell_type": "markdown",
   "metadata": {
    "id": "n5ShghW0wyOJ"
   },
   "source": [
    "Operators :- Operators are symbols that perform operations on variables and values.\n",
    "\n",
    "Types of Operator :-\n",
    "\n",
    "1. Arithmetic Operator - hese are used to perform basic mathematical operations between numbers. Arithmetic Operators are -  +, -, *, /, %, **\n",
    "\n"
   ]
  },
  {
   "cell_type": "code",
   "execution_count": 3,
   "metadata": {
    "colab": {
     "base_uri": "https://localhost:8080/"
    },
    "id": "0RXgYtNyxAfK",
    "outputId": "08063984-8239-4544-8ce0-3aedbe3e083c"
   },
   "outputs": [
    {
     "name": "stdout",
     "output_type": "stream",
     "text": [
      "7\n",
      "3\n",
      "10\n",
      "2.5\n",
      "1\n",
      "2\n",
      "25\n"
     ]
    }
   ],
   "source": [
    "#Example\n",
    "\n",
    "# 1. Arithmetic Operators\n",
    "a = 5\n",
    "b = 2\n",
    "\n",
    "print(a + b)  # 7 (Addition)\n",
    "print(a - b)  # 3 (Subtraction)\n",
    "print(a * b)  # 10 (Multiplication)\n",
    "print(a / b)  # 2.5 (Division)\n",
    "print(a % b)  # 1 (Modulus)\n",
    "print(a // b) # 2 (Floor Division)\n",
    "print(a ** b) # 25 (Power)\n"
   ]
  },
  {
   "cell_type": "markdown",
   "metadata": {
    "id": "caRiabYB1TgA"
   },
   "source": [
    "2. Comparison Operator - Comparison operators are used to compare two values. They return True or False. Comparison Operators are ==, !=, <, >, <=, >=\n",
    "\n"
   ]
  },
  {
   "cell_type": "code",
   "execution_count": 11,
   "metadata": {
    "colab": {
     "base_uri": "https://localhost:8080/"
    },
    "id": "Z-1Ve2zlxk8j",
    "outputId": "3ab48310-b0ce-4dac-e8ae-8f8bbda870ba"
   },
   "outputs": [
    {
     "name": "stdout",
     "output_type": "stream",
     "text": [
      "True\n",
      "False\n"
     ]
    }
   ],
   "source": [
    "# 2. Comaparison Operators\n",
    "\n",
    "a = 5\n",
    "b = 3\n",
    "\n",
    "print(a > b)   \n",
    "print(a == b)  \n"
   ]
  },
  {
   "cell_type": "markdown",
   "metadata": {
    "id": "nU8Glo2D1Xvy"
   },
   "source": [
    "3. Logical Operator - Logical operators are used to combine multiple conditions (usually True or False) and return a Boolean result. Logical Operator are - and, or not\n",
    "\n",
    "\n"
   ]
  },
  {
   "cell_type": "code",
   "execution_count": 9,
   "metadata": {
    "colab": {
     "base_uri": "https://localhost:8080/"
    },
    "id": "t_aYjhL3xlbq",
    "outputId": "4ff3954f-3873-4b0f-d45a-f2a109e31537"
   },
   "outputs": [
    {
     "name": "stdout",
     "output_type": "stream",
     "text": [
      "False\n",
      "True\n"
     ]
    }
   ],
   "source": [
    "# 3. Logical Operators\n",
    "\n",
    "x = True\n",
    "y = False\n",
    "\n",
    "print(x and y)  \n",
    "print(x or y)   \n"
   ]
  },
  {
   "cell_type": "markdown",
   "metadata": {
    "id": "8QQhY7Sy1ahx"
   },
   "source": [
    "4. Bitwise Operator - Bitwise operators work on binary (bit-level) data. They perform operations on the bits of numbers.\n",
    "\n",
    " Bitwise operators are - &, |, ~, ^, <<, >>\n",
    "\n"
   ]
  },
  {
   "cell_type": "code",
   "execution_count": 6,
   "metadata": {
    "id": "rv1zeLbRzX8Q"
   },
   "outputs": [
    {
     "name": "stdout",
     "output_type": "stream",
     "text": [
      "1\n",
      "7\n"
     ]
    }
   ],
   "source": [
    "# 4. Bitwise Operators\n",
    "\n",
    "a = 5  # 0101\n",
    "b = 3  # 0011\n",
    "\n",
    "print(a & b)  \n",
    "print(a | b)  \n"
   ]
  },
  {
   "cell_type": "markdown",
   "metadata": {
    "id": "89xlnz0g1eKy"
   },
   "source": [
    "5. Assignment Operator - Assignment operators are used to assign values to variables. They can also combine assignment with arithmetic operations. Assignment operators are - =, +=, -=, *=, /=, %=\n",
    "\n"
   ]
  },
  {
   "cell_type": "code",
   "execution_count": 7,
   "metadata": {
    "colab": {
     "base_uri": "https://localhost:8080/"
    },
    "id": "OQi3AiuRxllh",
    "outputId": "e45321d9-8f96-4190-a801-537c99eb3a01"
   },
   "outputs": [
    {
     "name": "stdout",
     "output_type": "stream",
     "text": [
      "8\n"
     ]
    }
   ],
   "source": [
    "# 5. Assignment Operators\n",
    "\n",
    "a = 5\n",
    "a += 3  # a = a + 3\n",
    "print(a)  \n"
   ]
  },
  {
   "cell_type": "markdown",
   "metadata": {
    "id": "5IpaXgUo1gn7"
   },
   "source": [
    "6. Membership Operator - Membership operators are used to check whether a value is present in a sequence (like list, string, tuple, etc.).\n",
    "\n",
    "\n"
   ]
  },
  {
   "cell_type": "code",
   "execution_count": 8,
   "metadata": {
    "colab": {
     "base_uri": "https://localhost:8080/"
    },
    "id": "1lzlijhAxlto",
    "outputId": "ac75d67b-d53a-48ac-f8a1-3ce18c0b9d79"
   },
   "outputs": [
    {
     "name": "stdout",
     "output_type": "stream",
     "text": [
      "True\n",
      "True\n"
     ]
    }
   ],
   "source": [
    "# 6. Membership Operators\n",
    "x = [1, 2, 3]\n",
    "\n",
    "print(2 in x)     \n",
    "print(4 not in x) \n"
   ]
  },
  {
   "cell_type": "markdown",
   "metadata": {
    "id": "qmD9vsfT1ryj"
   },
   "source": [
    "\n",
    "7. Identity Operator - Identity operators are used to compare the memory location of two objects — to check if they are the same object, not just equal in value.\n",
    "\n"
   ]
  },
  {
   "cell_type": "code",
   "execution_count": 28,
   "metadata": {
    "colab": {
     "base_uri": "https://localhost:8080/"
    },
    "id": "TfXraS4txl1p",
    "outputId": "32725856-e3cb-4e38-d5ce-6f82baef58c3"
   },
   "outputs": [
    {
     "name": "stdout",
     "output_type": "stream",
     "text": [
      "False\n",
      "True\n"
     ]
    }
   ],
   "source": [
    "# 7. Identity Operators\n",
    "\n",
    "a = [1, 2]\n",
    "b = a\n",
    "c = [1, 2]\n",
    "\n",
    "print(a is b)  \n",
    "print(a is c)  \n"
   ]
  },
  {
   "cell_type": "markdown",
   "metadata": {
    "id": "yFysD9gN2gSc"
   },
   "source": [
    "# Q.5 Explain the concept of type casting in Python with examples ?\n"
   ]
  },
  {
   "cell_type": "markdown",
   "metadata": {
    "id": "FSw6OECd2mZU"
   },
   "source": [
    "Type casting in Python refers to converting the data type of a value from one type to another. It is also known as type conversion.\n",
    "\n",
    "Typecasting are of two types Python provides two types of type casting:\n",
    "   1.Explicit Type Casting:-\n",
    "   2.Implicit Type Casting\n",
    "\n",
    "\n",
    "1. Explicit - In explicit casting, the programmer manually converts one data type to another using Python built-in functions.\n"
   ]
  },
  {
   "cell_type": "code",
   "execution_count": 2,
   "metadata": {
    "id": "dPtT0uXL3S6K"
   },
   "outputs": [
    {
     "name": "stdout",
     "output_type": "stream",
     "text": [
      "43\n"
     ]
    }
   ],
   "source": [
    "#string to integer\n",
    "num_str = \"42\"\n",
    "num = int(num_str)\n",
    "print(num + 1)  \n"
   ]
  },
  {
   "cell_type": "code",
   "execution_count": 1,
   "metadata": {
    "id": "JwzS-5KR3WES"
   },
   "outputs": [
    {
     "name": "stdout",
     "output_type": "stream",
     "text": [
      "7\n"
     ]
    }
   ],
   "source": [
    "#float to integer\n",
    "x = 7.8\n",
    "y = int(x)\n",
    "print(y) \n"
   ]
  },
  {
   "cell_type": "code",
   "execution_count": 3,
   "metadata": {
    "id": "hFX-6OPZ3W2y"
   },
   "outputs": [
    {
     "name": "stdout",
     "output_type": "stream",
     "text": [
      "5.0\n"
     ]
    }
   ],
   "source": [
    "#integer to float\n",
    "num = 5\n",
    "print(float(num)) \n"
   ]
  },
  {
   "cell_type": "code",
   "execution_count": 6,
   "metadata": {
    "id": "8ICP1wi63Z8S"
   },
   "outputs": [
    {
     "name": "stdout",
     "output_type": "stream",
     "text": [
      "10.5\n"
     ]
    }
   ],
   "source": [
    "#string to float\n",
    "price = \"10.5\"\n",
    "print(float(price))   \n"
   ]
  },
  {
   "cell_type": "code",
   "execution_count": null,
   "metadata": {
    "id": "0ZTh5Djp3aVL"
   },
   "outputs": [],
   "source": [
    "a = \"Ajay\" #character cannot be converted into numbers\n",
    "type(a)"
   ]
  },
  {
   "cell_type": "markdown",
   "metadata": {
    "id": "DNigcpN032Iw"
   },
   "source": [
    "2. Implicit - n implicit casting, Python automatically converts one data type to another without any user involvement.\n"
   ]
  },
  {
   "cell_type": "code",
   "execution_count": 7,
   "metadata": {
    "id": "5X662lcq3hqj"
   },
   "outputs": [
    {
     "name": "stdout",
     "output_type": "stream",
     "text": [
      "5.0\n",
      "<class 'float'>\n"
     ]
    }
   ],
   "source": [
    "#implicit typecasting\n",
    "x = 10      # int\n",
    "y = 2.0     # float\n",
    "\n",
    "z = x / y\n",
    "print(z)        \n",
    "print(type(z))   \n"
   ]
  },
  {
   "cell_type": "markdown",
   "metadata": {
    "id": "4-ue_uE3345Y"
   },
   "source": [
    "# Q.6 How do conditional statements work in Python? Illustrate with examples ?\n"
   ]
  },
  {
   "cell_type": "markdown",
   "metadata": {
    "id": "Ke6b7Zyl3_zR"
   },
   "source": [
    "Conditional Statements helps you to code decisions based on some preconditions.\n",
    "\n",
    "Conditional Statements are of following types :-\n",
    "\n",
    "1. if - The if statement checks whether a condition is true.\n",
    "If the condition is true, the indented block of code under the if statement will run.\n",
    "\n",
    "\n"
   ]
  },
  {
   "cell_type": "code",
   "execution_count": 1,
   "metadata": {
    "id": "IQ_u3se_4nHl"
   },
   "outputs": [
    {
     "name": "stdout",
     "output_type": "stream",
     "text": [
      "You are eligible to vote.\n"
     ]
    }
   ],
   "source": [
    "age = 18\n",
    "\n",
    "if age >= 18:\n",
    "    print(\"You are eligible to vote.\")\n"
   ]
  },
  {
   "cell_type": "markdown",
   "metadata": {
    "id": "35k4Y7k95ECj"
   },
   "source": [
    "2. if else - It is used when you want to do one thing if a condition is true, and something else if it’s false.\n",
    "\n",
    "\n"
   ]
  },
  {
   "cell_type": "code",
   "execution_count": 2,
   "metadata": {
    "id": "UMDNRA7a42ll"
   },
   "outputs": [
    {
     "name": "stdout",
     "output_type": "stream",
     "text": [
      "You failed the exam.\n"
     ]
    }
   ],
   "source": [
    "marks = 45\n",
    "\n",
    "if marks >= 50:\n",
    "    print(\"You passed the exam.\")\n",
    "else:\n",
    "    print(\"You failed the exam.\")\n"
   ]
  },
  {
   "cell_type": "markdown",
   "metadata": {
    "id": "V1e9Xcwe5HV5"
   },
   "source": [
    "3. if elif else - It is used to check multiple conditions in a program.\n",
    "Python evaluates the conditions one by one, from top to bottom. The first one that is true gets executed, and the rest are skipped.\n",
    "\n",
    "\n"
   ]
  },
  {
   "cell_type": "code",
   "execution_count": 3,
   "metadata": {
    "id": "mrdJlBhx426s"
   },
   "outputs": [
    {
     "name": "stdout",
     "output_type": "stream",
     "text": [
      "Grade: B\n"
     ]
    }
   ],
   "source": [
    "score = 75\n",
    "\n",
    "if score >= 90:\n",
    "    print(\"Grade: A\")\n",
    "elif score >= 75:\n",
    "    print(\"Grade: B\")\n",
    "elif score >= 60:\n",
    "    print(\"Grade: C\")\n",
    "else:\n",
    "    print(\"Grade: F\")\n"
   ]
  },
  {
   "cell_type": "markdown",
   "metadata": {
    "id": "jMyN0kAt5J3H"
   },
   "source": [
    "\n",
    "4. Nested if else - A nested if...else means you place one if or else statement inside another.\n",
    "It is used when you need to check more than one condition in a structured way."
   ]
  },
  {
   "cell_type": "code",
   "execution_count": 4,
   "metadata": {
    "id": "fW6_-fLX43He"
   },
   "outputs": [
    {
     "name": "stdout",
     "output_type": "stream",
     "text": [
      "You can enter the club.\n"
     ]
    }
   ],
   "source": [
    "age = 20\n",
    "has_id = True\n",
    "\n",
    "if age >= 18:\n",
    "    if has_id:\n",
    "        print(\"You can enter the club.\")\n",
    "    else:\n",
    "        print(\"You need an ID to enter.\")\n",
    "else:\n",
    "    print(\"You are too young to enter.\")\n"
   ]
  },
  {
   "cell_type": "markdown",
   "metadata": {
    "id": "U3uvLrt55Qfs"
   },
   "source": [
    "# Q.7 Describe the different types of loops in Python and their use cases with examples ?\n",
    "\n"
   ]
  },
  {
   "cell_type": "raw",
   "metadata": {},
   "source": [
    "1. for loop - The for loop is used to iterate over a sequence like a list, string, tuple, or range.\n"
   ]
  },
  {
   "cell_type": "code",
   "execution_count": 6,
   "metadata": {},
   "outputs": [
    {
     "name": "stdout",
     "output_type": "stream",
     "text": [
      "apple\n",
      "banana\n",
      "cherry\n"
     ]
    }
   ],
   "source": [
    "fruits = [\"apple\", \"banana\", \"cherry\"]\n",
    "for fruit in fruits:\n",
    "    print(fruit)\n"
   ]
  },
  {
   "cell_type": "markdown",
   "metadata": {
    "id": "v-IBWicI5TSt"
   },
   "source": [
    "2. while loop - The while loop keeps running as long as a condition is true.\n"
   ]
  },
  {
   "cell_type": "code",
   "execution_count": 7,
   "metadata": {
    "id": "w7h14p0a5cHr"
   },
   "outputs": [
    {
     "name": "stdout",
     "output_type": "stream",
     "text": [
      "1\n",
      "2\n",
      "3\n",
      "4\n",
      "5\n"
     ]
    }
   ],
   "source": [
    "i = 1\n",
    "while i <= 5:\n",
    "    print(i)\n",
    "    i += 1\n"
   ]
  },
  {
   "cell_type": "markdown",
   "metadata": {
    "id": "xLX-KKJd5xoo"
   },
   "source": [
    "3. Nested Loop - A loop inside another loop is called a nested loop."
   ]
  },
  {
   "cell_type": "code",
   "execution_count": 8,
   "metadata": {
    "id": "F-Pnj2KL51x2"
   },
   "outputs": [
    {
     "name": "stdout",
     "output_type": "stream",
     "text": [
      "i = 1, j = 1\n",
      "i = 1, j = 2\n",
      "i = 2, j = 1\n",
      "i = 2, j = 2\n",
      "i = 3, j = 1\n",
      "i = 3, j = 2\n"
     ]
    }
   ],
   "source": [
    "for i in range(1, 4):\n",
    "    for j in range(1, 3):\n",
    "        print(f\"i = {i}, j = {j}\")\n"
   ]
  }
 ],
 "metadata": {
  "colab": {
   "provenance": []
  },
  "kernelspec": {
   "display_name": "Python 3 (ipykernel)",
   "language": "python",
   "name": "python3"
  },
  "language_info": {
   "codemirror_mode": {
    "name": "ipython",
    "version": 3
   },
   "file_extension": ".py",
   "mimetype": "text/x-python",
   "name": "python",
   "nbconvert_exporter": "python",
   "pygments_lexer": "ipython3",
   "version": "3.12.7"
  }
 },
 "nbformat": 4,
 "nbformat_minor": 4
}
